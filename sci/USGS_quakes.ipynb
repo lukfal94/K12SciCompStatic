{
 "cells": [
  {
   "cell_type": "markdown",
   "metadata": {},
   "source": [
    "#  Plotting Recent Earthquake Locations\n",
    "The U.S. Geological Survey (USGS) has raw data available online. More info at the [USGS earthquakes page](http://earthquake.usgs.gov/earthquakes/feed/v1.0/csv.php).\n",
    "\n",
    "This notebook was started by Physics teacher and Quarknet member Peter Apps, York Middle/High School, Retsof, NY."
   ]
  },
  {
   "cell_type": "code",
   "execution_count": 1,
   "metadata": {
    "collapsed": true
   },
   "outputs": [],
   "source": [
    "#importing what we'll need\n",
    "import numpy as np\n",
    "import pandas as pd\n",
    "%matplotlib inline\n",
    "import matplotlib.pyplot as plt"
   ]
  },
  {
   "cell_type": "markdown",
   "metadata": {},
   "source": [
    "## Choose your data\n",
    "In the box below, uncomment one of the data sets by deleting the # at the beginning of the line. Here's the [full listing](http://earthquake.usgs.gov/earthquakes/feed/v1.0/csv.php) of the different data sets you can grab."
   ]
  },
  {
   "cell_type": "code",
   "execution_count": 2,
   "metadata": {
    "collapsed": false
   },
   "outputs": [],
   "source": [
    "# Just earthquakes from the past hour\n",
    "#data = pd.read_csv(\"http://earthquake.usgs.gov/earthquakes/feed/v1.0/summary/all_hour.csv\")\n",
    "\n",
    "# All earthquake events in the last month\n",
    "data = pd.read_csv(\"http://earthquake.usgs.gov/earthquakes/feed/v1.0/summary/all_month.csv\")\n",
    "\n",
    "# Only large earthquakes (magnitude 4.5 or greater) in teh past month\n",
    "#data = pd.read_csv(\"http://earthquake.usgs.gov/earthquakes/feed/v1.0/summary/4.5_month.csv\")"
   ]
  },
  {
   "cell_type": "code",
   "execution_count": 3,
   "metadata": {
    "collapsed": false
   },
   "outputs": [
    {
     "data": {
      "text/html": [
       "<div>\n",
       "<table border=\"1\" class=\"dataframe\">\n",
       "  <thead>\n",
       "    <tr style=\"text-align: right;\">\n",
       "      <th></th>\n",
       "      <th>time</th>\n",
       "      <th>latitude</th>\n",
       "      <th>longitude</th>\n",
       "      <th>depth</th>\n",
       "      <th>mag</th>\n",
       "      <th>magType</th>\n",
       "      <th>nst</th>\n",
       "      <th>gap</th>\n",
       "      <th>dmin</th>\n",
       "      <th>rms</th>\n",
       "      <th>...</th>\n",
       "      <th>updated</th>\n",
       "      <th>place</th>\n",
       "      <th>type</th>\n",
       "      <th>horizontalError</th>\n",
       "      <th>depthError</th>\n",
       "      <th>magError</th>\n",
       "      <th>magNst</th>\n",
       "      <th>status</th>\n",
       "      <th>locationSource</th>\n",
       "      <th>magSource</th>\n",
       "    </tr>\n",
       "  </thead>\n",
       "  <tbody>\n",
       "    <tr>\n",
       "      <th>0</th>\n",
       "      <td>2016-10-12T16:32:28.480Z</td>\n",
       "      <td>34.342167</td>\n",
       "      <td>-116.888167</td>\n",
       "      <td>-1.35</td>\n",
       "      <td>1.46</td>\n",
       "      <td>ml</td>\n",
       "      <td>56.0</td>\n",
       "      <td>45.0</td>\n",
       "      <td>0.05057</td>\n",
       "      <td>0.18</td>\n",
       "      <td>...</td>\n",
       "      <td>2016-10-12T16:43:34.278Z</td>\n",
       "      <td>10km NNW of Big Bear City, CA</td>\n",
       "      <td>quarry blast</td>\n",
       "      <td>0.26</td>\n",
       "      <td>31.61</td>\n",
       "      <td>0.127</td>\n",
       "      <td>40.0</td>\n",
       "      <td>reviewed</td>\n",
       "      <td>ci</td>\n",
       "      <td>ci</td>\n",
       "    </tr>\n",
       "  </tbody>\n",
       "</table>\n",
       "<p>1 rows × 22 columns</p>\n",
       "</div>"
      ],
      "text/plain": [
       "                       time   latitude   longitude  depth   mag magType   nst  \\\n",
       "0  2016-10-12T16:32:28.480Z  34.342167 -116.888167  -1.35  1.46      ml  56.0   \n",
       "\n",
       "    gap     dmin   rms    ...                      updated  \\\n",
       "0  45.0  0.05057  0.18    ...     2016-10-12T16:43:34.278Z   \n",
       "\n",
       "                           place          type horizontalError depthError  \\\n",
       "0  10km NNW of Big Bear City, CA  quarry blast            0.26      31.61   \n",
       "\n",
       "   magError  magNst    status  locationSource magSource  \n",
       "0     0.127    40.0  reviewed              ci        ci  \n",
       "\n",
       "[1 rows x 22 columns]"
      ]
     },
     "execution_count": 3,
     "metadata": {},
     "output_type": "execute_result"
    }
   ],
   "source": [
    "data.head(1)"
   ]
  },
  {
   "cell_type": "code",
   "execution_count": 4,
   "metadata": {
    "collapsed": false
   },
   "outputs": [
    {
     "data": {
      "image/png": "[encoded data removed]",
      "text/plain": [
       "<matplotlib.figure.Figure at 0x1148b0588>"
      ]
     },
     "metadata": {},
     "output_type": "display_data"
    }
   ],
   "source": [
    "# Set variables for scatter plot\n",
    "x = data.longitude\n",
    "y = data.latitude\n",
    "\n",
    "plt.scatter(x,y)\n",
    "plt.title('Earthquakes around the world (last month)')\n",
    "plt.xlabel('Longitude')\n",
    "plt.ylabel('Latitude')\n",
    "\n",
    "# This actually shows the plot\n",
    "plt.show()"
   ]
  },
  {
   "cell_type": "markdown",
   "metadata": {},
   "source": [
    "Do you notice a pattern in the plot?\n",
    "\n",
    "## Run a new analysis\n",
    "You can edit the code, maybe grab a different data set, and run the program again by going to Kernel > Restart & Run All"
   ]
  }
 ],
 "metadata": {
  "anaconda-cloud": {},
  "kernelspec": {
   "display_name": "Python 3",
   "language": "python",
   "name": "python3"
  },
  "language_info": {
   "codemirror_mode": {
    "name": "ipython",
    "version": 3
   },
   "file_extension": ".py",
   "mimetype": "text/x-python",
   "name": "python",
   "nbconvert_exporter": "python",
   "pygments_lexer": "ipython3",
   "version": "3.5.1"
  }
 },
 "nbformat": 4,
 "nbformat_minor": 0
}
